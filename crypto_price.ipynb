{
 "cells": [
  {
   "cell_type": "code",
   "execution_count": 1,
   "id": "e917f708",
   "metadata": {},
   "outputs": [],
   "source": [
    "#imports\n",
    "from pycoingecko import CoinGeckoAPI\n",
    "import pandas as pd\n",
    "from datetime import datetime\n",
    "from datetime import timedelta\n",
    "import time"
   ]
  },
  {
   "cell_type": "code",
   "execution_count": 2,
   "id": "1e496d49",
   "metadata": {},
   "outputs": [],
   "source": [
    "#download tweets mentioning crypto\n",
    "doge = pd.read_csv('doge_tweets.csv')\n",
    "btc = pd.read_csv('btc_tweets.csv')\n",
    "eth = pd.read_csv('eth_tweets.csv')\n",
    "crypto = pd.read_csv('crypto_tweets.csv')"
   ]
  },
  {
   "cell_type": "code",
   "execution_count": 3,
   "id": "1f5654f1",
   "metadata": {},
   "outputs": [],
   "source": [
    "#convert 'Date' from string to datetime\n",
    "doge['Date'] = pd.to_datetime(doge['Date'], format='%Y-%m-%d')\n",
    "btc['Date'] = pd.to_datetime(btc['Date'], format='%Y-%m-%d')\n",
    "eth['Date'] = pd.to_datetime(eth['Date'], format='%Y-%m-%d')\n",
    "crypto['Date'] = pd.to_datetime(crypto['Date'], format='%Y-%m-%d')"
   ]
  },
  {
   "cell_type": "code",
   "execution_count": 4,
   "id": "94a54c38",
   "metadata": {},
   "outputs": [],
   "source": [
    "#API coingecko\n",
    "cg = CoinGeckoAPI()"
   ]
  },
  {
   "cell_type": "code",
   "execution_count": 5,
   "id": "44b2c9a2",
   "metadata": {},
   "outputs": [
    {
     "data": {
      "text/plain": [
       "735.59"
      ]
     },
     "execution_count": 5,
     "metadata": {},
     "output_type": "execute_result"
    }
   ],
   "source": [
    "#Call USD price for a specific coin in specific day \n",
    "round(cg.get_coin_history_by_id(id ='ethereum', date = '30-12-2020')['market_data']['current_price']['usd'],2)"
   ]
  },
  {
   "cell_type": "code",
   "execution_count": 6,
   "id": "8cb515b9",
   "metadata": {},
   "outputs": [
    {
     "data": {
      "text/plain": [
       "'29-01-2018'"
      ]
     },
     "execution_count": 6,
     "metadata": {},
     "output_type": "execute_result"
    }
   ],
   "source": [
    "#change date format\n",
    "str(crypto['Date'][0].strftime('%d-%m-%Y'))"
   ]
  },
  {
   "cell_type": "code",
   "execution_count": 7,
   "id": "7d0c3c95",
   "metadata": {},
   "outputs": [],
   "source": [
    "#get prices for the day of tweet - doge\n",
    "def get_price_doge(row):\n",
    "    time.sleep(1.5)\n",
    "    return round(cg.get_coin_history_by_id(id ='dogecoin', date = str(row['Date'].strftime('%d-%m-%Y')))['market_data']['current_price']['usd'],5)\n",
    "doge_price_tweet_date = doge.apply(get_price_doge, axis=1)"
   ]
  },
  {
   "cell_type": "code",
   "execution_count": 8,
   "id": "60dca131",
   "metadata": {},
   "outputs": [],
   "source": [
    "#get prices for the day of tweet - btc\n",
    "def get_price_btc(row):\n",
    "    time.sleep(1.5)\n",
    "    return round(cg.get_coin_history_by_id(id ='bitcoin', date = str(row['Date'].strftime('%d-%m-%Y')))['market_data']['current_price']['usd'],5)\n",
    "btc_price_tweet_date = btc.apply(get_price_btc, axis=1)"
   ]
  },
  {
   "cell_type": "code",
   "execution_count": 9,
   "id": "4fb93762",
   "metadata": {},
   "outputs": [],
   "source": [
    "#get prices for the day of tweet - eth\n",
    "def get_price_eth(row):\n",
    "    time.sleep(1.5)\n",
    "    return round(cg.get_coin_history_by_id(id ='ethereum', date = str(row['Date'].strftime('%d-%m-%Y')))['market_data']['current_price']['usd'],5)\n",
    "eth_price_tweet_date = eth.apply(get_price_eth, axis=1)"
   ]
  },
  {
   "cell_type": "code",
   "execution_count": 10,
   "id": "2e5f2e5e",
   "metadata": {},
   "outputs": [],
   "source": [
    "# add prices to Df\n",
    "doge['tweet_day_price'] = doge_price_tweet_date\n",
    "btc['tweet_day_price'] = btc_price_tweet_date\n",
    "eth['tweet_day_price'] = eth_price_tweet_date"
   ]
  },
  {
   "cell_type": "code",
   "execution_count": 11,
   "id": "6e5537ab",
   "metadata": {},
   "outputs": [
    {
     "data": {
      "text/plain": [
       "'03-04-2019'"
      ]
     },
     "execution_count": 11,
     "metadata": {},
     "output_type": "execute_result"
    }
   ],
   "source": [
    "(doge['Date'][0] + timedelta(days=1)).strftime('%d-%m-%Y')"
   ]
  },
  {
   "cell_type": "code",
   "execution_count": 12,
   "id": "ebfe68c3",
   "metadata": {},
   "outputs": [],
   "source": [
    "#get prices for the day of tweet +1  - doge\n",
    "def get_price_doge(row):\n",
    "    time.sleep(1.5)\n",
    "    return round(cg.get_coin_history_by_id(id ='dogecoin', date = str((row['Date']+ timedelta(days=1)).strftime('%d-%m-%Y')))['market_data']['current_price']['usd'],5)\n",
    "doge_price_tweet_one = doge.apply(get_price_doge, axis=1)"
   ]
  },
  {
   "cell_type": "code",
   "execution_count": 13,
   "id": "03ee1892",
   "metadata": {},
   "outputs": [],
   "source": [
    "#get prices for the day of tweet +1 - btc\n",
    "def get_price_btc(row):\n",
    "    time.sleep(1.5)\n",
    "    return round(cg.get_coin_history_by_id(id ='bitcoin', date = str((row['Date']+ timedelta(days=1)).strftime('%d-%m-%Y')))['market_data']['current_price']['usd'],5)\n",
    "btc_price_tweet_one = btc.apply(get_price_btc, axis=1)"
   ]
  },
  {
   "cell_type": "code",
   "execution_count": 14,
   "id": "cbb12325",
   "metadata": {},
   "outputs": [],
   "source": [
    "#get prices for the day of tweet +1 - eth\n",
    "def get_price_eth(row):\n",
    "    time.sleep(1.5)\n",
    "    return round(cg.get_coin_history_by_id(id ='ethereum', date = str((row['Date']+ timedelta(days=1)).strftime('%d-%m-%Y')))['market_data']['current_price']['usd'],5)\n",
    "eth_price_tweet_one = eth.apply(get_price_eth, axis=1)"
   ]
  },
  {
   "cell_type": "code",
   "execution_count": 15,
   "id": "1789155c",
   "metadata": {},
   "outputs": [],
   "source": [
    "# add prices day+1 to Df\n",
    "doge['tweet_day_one_price'] = doge_price_tweet_one\n",
    "btc['tweet_day_one_price'] = btc_price_tweet_one\n",
    "eth['tweet_day_one_price'] = eth_price_tweet_one"
   ]
  },
  {
   "cell_type": "code",
   "execution_count": 16,
   "id": "4d8ff9b0",
   "metadata": {},
   "outputs": [],
   "source": [
    "#get prices for the day of tweet +2  - doge\n",
    "def get_price_doge(row):\n",
    "    time.sleep(1.5)\n",
    "    return round(cg.get_coin_history_by_id(id ='dogecoin', date = str((row['Date']+ timedelta(days=2)).strftime('%d-%m-%Y')))['market_data']['current_price']['usd'],5)\n",
    "doge_price_tweet_two = doge.apply(get_price_doge, axis=1)\n",
    "\n",
    "#get prices for the day of tweet +2 - btc\n",
    "def get_price_btc(row):\n",
    "    time.sleep(1.5)\n",
    "    return round(cg.get_coin_history_by_id(id ='bitcoin', date = str((row['Date']+ timedelta(days=2)).strftime('%d-%m-%Y')))['market_data']['current_price']['usd'],5)\n",
    "btc_price_tweet_two = btc.apply(get_price_btc, axis=1)\n",
    "\n",
    "#get prices for the day of tweet +2 - eth\n",
    "def get_price_eth(row):\n",
    "    time.sleep(1.5)\n",
    "    return round(cg.get_coin_history_by_id(id ='ethereum', date = str((row['Date']+ timedelta(days=2)).strftime('%d-%m-%Y')))['market_data']['current_price']['usd'],5)\n",
    "eth_price_tweet_two = eth.apply(get_price_eth, axis=1)\n",
    "\n",
    "# add prices day+2 to Df\n",
    "doge['tweet_day_two_price'] = doge_price_tweet_two\n",
    "btc['tweet_day_two_price'] = btc_price_tweet_two\n",
    "eth['tweet_day_two_price'] = eth_price_tweet_two"
   ]
  },
  {
   "cell_type": "code",
   "execution_count": 17,
   "id": "05e5caeb",
   "metadata": {},
   "outputs": [],
   "source": [
    "#get prices for the day of tweet +3  - doge\n",
    "def get_price_doge(row):\n",
    "    time.sleep(1.5)\n",
    "    return round(cg.get_coin_history_by_id(id ='dogecoin', date = str((row['Date']+ timedelta(days=3)).strftime('%d-%m-%Y')))['market_data']['current_price']['usd'],5)\n",
    "doge_price_tweet_three = doge.apply(get_price_doge, axis=1)\n",
    "\n",
    "#get prices for the day of tweet +3 - btc\n",
    "def get_price_btc(row):\n",
    "    time.sleep(1.5)\n",
    "    return round(cg.get_coin_history_by_id(id ='bitcoin', date = str((row['Date']+ timedelta(days=3)).strftime('%d-%m-%Y')))['market_data']['current_price']['usd'],5)\n",
    "btc_price_tweet_three = btc.apply(get_price_btc, axis=1)\n",
    "\n",
    "#get prices for the day of tweet +3 - eth\n",
    "def get_price_eth(row):\n",
    "    time.sleep(1.5)\n",
    "    return round(cg.get_coin_history_by_id(id ='ethereum', date = str((row['Date']+ timedelta(days=3)).strftime('%d-%m-%Y')))['market_data']['current_price']['usd'],5)\n",
    "eth_price_tweet_three = eth.apply(get_price_eth, axis=1)\n",
    "\n",
    "# add prices day+3 to Df\n",
    "doge['tweet_day_three_price'] = doge_price_tweet_three\n",
    "btc['tweet_day_three_price'] = btc_price_tweet_three\n",
    "eth['tweet_day_three_price'] = eth_price_tweet_three"
   ]
  },
  {
   "cell_type": "code",
   "execution_count": 18,
   "id": "d84f8084",
   "metadata": {},
   "outputs": [],
   "source": [
    "#get prices for the day of tweet -2  - doge\n",
    "def get_price_doge(row):\n",
    "    time.sleep(1.5)\n",
    "    return round(cg.get_coin_history_by_id(id ='dogecoin', date = str((row['Date']- timedelta(days=2)).strftime('%d-%m-%Y')))['market_data']['current_price']['usd'],5)\n",
    "doge_price_tweet_minustwo = doge.apply(get_price_doge, axis=1)\n",
    "\n",
    "#get prices for the day of tweet -2 - btc\n",
    "def get_price_btc(row):\n",
    "    time.sleep(1.5)\n",
    "    return round(cg.get_coin_history_by_id(id ='bitcoin', date = str((row['Date']- timedelta(days=2)).strftime('%d-%m-%Y')))['market_data']['current_price']['usd'],5)\n",
    "btc_price_tweet_minustwo = btc.apply(get_price_btc, axis=1)\n",
    "\n",
    "#get prices for the day of tweet -2 - eth\n",
    "def get_price_eth(row):\n",
    "    time.sleep(1.5)\n",
    "    return round(cg.get_coin_history_by_id(id ='ethereum', date = str((row['Date']- timedelta(days=2)).strftime('%d-%m-%Y')))['market_data']['current_price']['usd'],5)\n",
    "eth_price_tweet_minustwo = eth.apply(get_price_eth, axis=1)\n",
    "\n",
    "# add prices day-2 to Df\n",
    "doge['tweet_day_minustwo_price'] = doge_price_tweet_minustwo\n",
    "btc['tweet_day_minustwo_price'] = btc_price_tweet_minustwo\n",
    "eth['tweet_day_minustwo_price'] = eth_price_tweet_minustwo"
   ]
  },
  {
   "cell_type": "code",
   "execution_count": 19,
   "id": "3c1d65de",
   "metadata": {},
   "outputs": [],
   "source": [
    "doge.to_csv('doge_tweets_price.csv', index=False)\n",
    "btc.to_csv('btc_tweets_price.csv', index=False)\n",
    "eth.to_csv('eth_tweets_price.csv', index=False)"
   ]
  }
 ],
 "metadata": {
  "kernelspec": {
   "display_name": "Python 3 (ipykernel)",
   "language": "python",
   "name": "python3"
  },
  "language_info": {
   "codemirror_mode": {
    "name": "ipython",
    "version": 3
   },
   "file_extension": ".py",
   "mimetype": "text/x-python",
   "name": "python",
   "nbconvert_exporter": "python",
   "pygments_lexer": "ipython3",
   "version": "3.9.7"
  }
 },
 "nbformat": 4,
 "nbformat_minor": 5
}
